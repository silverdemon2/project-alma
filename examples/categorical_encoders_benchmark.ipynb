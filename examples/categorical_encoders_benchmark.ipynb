{
 "cells": [
  {
   "cell_type": "markdown",
   "metadata": {},
   "source": [
    "# Import"
   ]
  },
  {
   "cell_type": "code",
   "execution_count": 1,
   "metadata": {},
   "outputs": [],
   "source": [
    "import pandas as pd \n",
    "import os\n",
    "import numpy as np\n",
    "from matplotlib import pyplot as plt\n",
    "from sklearn.model_selection import KFold\n",
    "from category_encoders.ordinal import OrdinalEncoder\n",
    "from category_encoders.woe import WOEEncoder\n",
    "from category_encoders.target_encoder import TargetEncoder\n",
    "from category_encoders.m_estimate import MEstimateEncoder\n",
    "from category_encoders.leave_one_out import LeaveOneOutEncoder\n",
    "from category_encoders.cat_boost import CatBoostEncoder\n",
    "from category_encoders.james_stein import JamesSteinEncoder\n",
    "from sklearn.model_selection import train_test_split\n",
    "from sklearn.metrics import roc_auc_score as auc\n",
    "from sklearn.linear_model import LogisticRegression"
   ]
  },
  {
   "cell_type": "markdown",
   "metadata": {},
   "source": [
    "## Import local module"
   ]
  },
  {
   "cell_type": "code",
   "execution_count": 2,
   "metadata": {},
   "outputs": [],
   "source": [
    "import os\n",
    "import sys\n",
    "sys.path.insert(0, os.path.abspath('../skl_sampling_bayesian_transformer'))"
   ]
  },
  {
   "cell_type": "code",
   "execution_count": 3,
   "metadata": {},
   "outputs": [],
   "source": [
    "import sampling_bayesian_encoder"
   ]
  },
  {
   "cell_type": "markdown",
   "metadata": {},
   "source": [
    "## Remove warnings"
   ]
  },
  {
   "cell_type": "code",
   "execution_count": 4,
   "metadata": {},
   "outputs": [],
   "source": [
    "import warnings\n",
    "warnings.filterwarnings('ignore')\n"
   ]
  },
  {
   "cell_type": "markdown",
   "metadata": {},
   "source": [
    "# Benchmark"
   ]
  },
  {
   "cell_type": "code",
   "execution_count": 5,
   "metadata": {},
   "outputs": [],
   "source": [
    "train_raw = pd.read_csv('csv/input/cat-in-the-dat/train.csv')\n",
    "test_raw = pd.read_csv('csv/input/cat-in-the-dat/test.csv')\n",
    "target = train_raw['target']\n",
    "train_raw.drop(['target', 'id'], axis=1, inplace=True)\n",
    "test_raw.drop('id', axis=1, inplace=True)\n",
    "\n",
    "all_features = list(train_raw.columns)"
   ]
  },
  {
   "cell_type": "code",
   "execution_count": 6,
   "metadata": {},
   "outputs": [],
   "source": [
    "high_cardinal=[c for c in all_features if train_raw[c].nunique()>100]\n",
    "low_cardinal=list(set(all_features)-set(high_cardinal))"
   ]
  },
  {
   "cell_type": "code",
   "execution_count": 7,
   "metadata": {},
   "outputs": [
    {
     "data": {
      "text/plain": [
       "['nom_2',\n",
       " 'ord_2',\n",
       " 'nom_4',\n",
       " 'ord_3',\n",
       " 'ord_0',\n",
       " 'bin_0',\n",
       " 'bin_3',\n",
       " 'bin_4',\n",
       " 'ord_1',\n",
       " 'month',\n",
       " 'day',\n",
       " 'nom_0',\n",
       " 'bin_1',\n",
       " 'ord_4',\n",
       " 'bin_2',\n",
       " 'nom_3',\n",
       " 'nom_1']"
      ]
     },
     "execution_count": 7,
     "metadata": {},
     "output_type": "execute_result"
    }
   ],
   "source": [
    "low_cardinal"
   ]
  },
  {
   "cell_type": "code",
   "execution_count": 8,
   "metadata": {},
   "outputs": [
    {
     "data": {
      "text/plain": [
       "['nom_5', 'nom_6', 'nom_7', 'nom_8', 'nom_9', 'ord_5']"
      ]
     },
     "execution_count": 8,
     "metadata": {},
     "output_type": "execute_result"
    }
   ],
   "source": [
    "high_cardinal"
   ]
  },
  {
   "cell_type": "code",
   "execution_count": 9,
   "metadata": {},
   "outputs": [],
   "source": [
    "features = high_cardinal"
   ]
  },
  {
   "cell_type": "code",
   "execution_count": 10,
   "metadata": {},
   "outputs": [],
   "source": [
    "train = train_raw[features]"
   ]
  },
  {
   "cell_type": "code",
   "execution_count": 11,
   "metadata": {},
   "outputs": [],
   "source": [
    "encoder_list = [OrdinalEncoder(), WOEEncoder(), TargetEncoder(), MEstimateEncoder(), JamesSteinEncoder(),\n",
    "                    LeaveOneOutEncoder(), CatBoostEncoder()]\n",
    "sampling_encoder = sampling_bayesian_encoder.SamplingBayesianEncoder(n_draws=10)"
   ]
  },
  {
   "cell_type": "markdown",
   "metadata": {},
   "source": [
    "## Logistic regression"
   ]
  },
  {
   "cell_type": "code",
   "execution_count": 12,
   "metadata": {},
   "outputs": [],
   "source": [
    "def score_all_encoders_lr(train, target, encoders, sampling_encoder):\n",
    "    X_train, X_val, y_train, y_val = train_test_split(train, target, test_size=0.2, random_state=97)\n",
    "    for encoder in encoders:\n",
    "        print_score_lr_encoder(encoder, X_train, X_val, y_train, y_val)\n",
    "    print_score_lr_sampling(sampling_encoder, X_train, X_val, y_train, y_val)\n",
    "\n",
    "\n",
    "def print_score_lr_encoder(encoder, X_train, X_val, y_train, y_val):\n",
    "    print(\"Test {} : \".format(str(encoder).split('(')[0]), end=\" \")\n",
    "    train_enc = encoder.fit_transform(X_train, y_train)\n",
    "    val_enc = encoder.transform(X_val)\n",
    "    lr = LogisticRegression(C=0.1, solver=\"lbfgs\", max_iter=1000)\n",
    "    lr.fit(train_enc, y_train)\n",
    "    lr_pred = lr.predict_proba(val_enc)[:, 1]\n",
    "    score = auc(y_val, lr_pred)\n",
    "    print(\"score: \", score)\n",
    "\n",
    "\n",
    "def print_score_lr_sampling(encoder, X_train, X_val, y_train, y_val):\n",
    "    print(\"Test {} : \".format(str(encoder).split('(')[0]), end=\" \")\n",
    "    lr = LogisticRegression(C=0.1, solver=\"lbfgs\")  # , max_iter=1000)\n",
    "    ew = sampling_bayesian_encoder.EncoderWrapper(encoder, lr)\n",
    "    ew.fit(X_train, y_train)\n",
    "    lr_pred = ew.predict_proba(X_val)\n",
    "    score = auc(y_val, lr_pred)\n",
    "    print(\" Sampling bayesian score: \", score)"
   ]
  },
  {
   "cell_type": "code",
   "execution_count": null,
   "metadata": {},
   "outputs": [
    {
     "name": "stdout",
     "output_type": "stream",
     "text": [
      "Test OrdinalEncoder :  score:  0.5047167727113783\n",
      "Test WOEEncoder :  score:  0.6511724089376556\n",
      "Test TargetEncoder :  score:  0.6502783426722238\n",
      "Test MEstimateEncoder :  score:  0.6503511216531279\n",
      "Test JamesSteinEncoder :  score:  0.6447155893417477\n",
      "Test LeaveOneOutEncoder :  score:  0.6707955636756081\n",
      "Test CatBoostEncoder :  score:  0.6666014837276445\n",
      "Test SamplingBayesianEncoder :  "
     ]
    }
   ],
   "source": [
    "score_all_encoders_lr(train, target, encoder_list, sampling_encoder)"
   ]
  },
  {
   "cell_type": "markdown",
   "metadata": {},
   "source": [
    "## Logistic regression with cross validation"
   ]
  },
  {
   "cell_type": "code",
   "execution_count": null,
   "metadata": {},
   "outputs": [],
   "source": [
    "def run_cv_encoding_wraper(train, test, target, sampling_encoder, lr_params):\n",
    "    label = str(sampling_encoder).split('(')[0]\n",
    "    kf = KFold(n_splits=5)\n",
    "    fold_splits = kf.split(train, target)\n",
    "    lr = LogisticRegression(**lr_params)\n",
    "    wrapper = sampling_bayesian_encoder.EncoderWrapper(sampling_encoder, lr)\n",
    "    cv_scores = []\n",
    "    pred_full_test = 0\n",
    "    pred_train = np.zeros((train.shape[0]))\n",
    "    i = 1\n",
    "    for dev_index, val_index in fold_splits:\n",
    "        print('Started {} fold {}/5'.format(label, i))\n",
    "        dev_X, val_X = train.iloc[dev_index], train.iloc[val_index]\n",
    "        dev_y, val_y = target[dev_index], target[val_index]\n",
    "        wrapper.fit(dev_X, dev_y)\n",
    "        pred_val_y = wrapper.predict_proba(val_X)\n",
    "        pred_test_y = wrapper.predict_proba(test)\n",
    "\n",
    "        pred_full_test = pred_full_test + pred_test_y\n",
    "        pred_train[val_index] = pred_val_y\n",
    "        cv_score = auc(val_y, pred_val_y)\n",
    "        cv_scores.append(cv_score)\n",
    "        print(label + ' cv score {}: {}'.format(i, cv_score))\n",
    "        i += 1\n",
    "\n",
    "    print('{} cv scores : {}'.format(label, cv_scores))\n",
    "    print('{} cv mean score : {}'.format(label, np.mean(cv_scores)))\n",
    "    print('{} cv std score : {}'.format(label, np.std(cv_scores)))\n",
    "    pred_full_test = pred_full_test / 5.0\n",
    "    results = {'label': label, 'train': pred_train, 'test': pred_full_test, 'cv': cv_scores}\n",
    "    return results\n",
    "\n",
    "\n",
    "def run_cv_lr(train, test, target, encoder, lr_params):\n",
    "    label = str(encoder).split('(')[0]\n",
    "    kf = KFold(n_splits=5)\n",
    "    fold_splits = kf.split(train, target)\n",
    "    model = LogisticRegression(**lr_params)\n",
    "    cv_scores = []\n",
    "    pred_full_test = 0\n",
    "    pred_train = np.zeros((train.shape[0]))\n",
    "    i = 1\n",
    "    for dev_index, val_index in fold_splits:\n",
    "        print('Started {} fold {}/5'.format(label, i))\n",
    "        dev_X, val_X = train.iloc[dev_index], train.iloc[val_index]\n",
    "        dev_y, val_y = target[dev_index], target[val_index]\n",
    "        dev_X_enc = encoder.fit_transform(dev_X, dev_y)\n",
    "        val_X_enc = encoder.transform(val_X)\n",
    "        model.fit(dev_X_enc, dev_y)\n",
    "        pred_val_y = model.predict_proba(val_X_enc)[:, 1]\n",
    "        test_enc = encoder.transform(test)\n",
    "        pred_test_y = model.predict_proba(test_enc)[:, 1]\n",
    "\n",
    "        pred_full_test = pred_full_test + pred_test_y\n",
    "        pred_train[val_index] = pred_val_y\n",
    "        cv_score = auc(val_y, pred_val_y)\n",
    "        cv_scores.append(cv_score)\n",
    "        print(label + ' cv score {}: {}'.format(i, cv_score))\n",
    "        i += 1\n",
    "\n",
    "    print('{} cv scores : {}'.format(label, cv_scores))\n",
    "    print('{} cv mean score : {}'.format(label, np.mean(cv_scores)))\n",
    "    print('{} cv std score : {}'.format(label, np.std(cv_scores)))\n",
    "    pred_full_test = pred_full_test / 5.0\n",
    "    results = {'label': label, 'train': pred_train, 'test': pred_full_test, 'cv': cv_scores}\n",
    "    return results\n"
   ]
  },
  {
   "cell_type": "code",
   "execution_count": null,
   "metadata": {},
   "outputs": [],
   "source": [
    "lr_params = {'solver': 'lbfgs', 'C': 0.1}\n",
    "results = list()\n",
    "train = train_raw[features]\n",
    "test = test_raw[features]\n",
    "\n",
    "for encoder in encoder_list:\n",
    "    result = run_cv_lr(train, test, target, encoder, lr_params)\n",
    "    results.append(result)\n",
    "\n",
    "sampling_encoder = sampling_bayesian_encoder.SamplingBayesianEncoder(n_draws=10)\n",
    "result = run_cv_encoding_wraper(train, test, target, sampling_encoder, lr_params)\n",
    "results.append(result)\n",
    "\n",
    "results = pd.DataFrame(results)\n",
    "results['cv_mean'] = results['cv'].apply(lambda l: np.mean(l))\n",
    "results['cv_std'] = results['cv'].apply(lambda l: np.std(l))\n",
    "print(results[['label', 'cv_mean', 'cv_std']].head(9))"
   ]
  }
 ],
 "metadata": {
  "kernelspec": {
   "display_name": "Python 3",
   "language": "python",
   "name": "python3"
  },
  "language_info": {
   "codemirror_mode": {
    "name": "ipython",
    "version": 3
   },
   "file_extension": ".py",
   "mimetype": "text/x-python",
   "name": "python",
   "nbconvert_exporter": "python",
   "pygments_lexer": "ipython3",
   "version": "3.7.6"
  }
 },
 "nbformat": 4,
 "nbformat_minor": 4
}
